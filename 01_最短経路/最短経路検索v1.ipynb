{
 "cells": [
  {
   "cell_type": "code",
   "execution_count": 1,
   "id": "e8175c67-5d0c-4726-8440-bb02191ba594",
   "metadata": {},
   "outputs": [],
   "source": [
    "import pandas as pd\n",
    "import networkx as nx\n",
    "from itertools import combinations\n",
    "\n",
    "edges = pd.read_csv(\"./駅データ/join20240328.csv\")\n",
    "stations = pd.read_csv(\"./駅データ/station20240426free.csv\")"
   ]
  },
  {
   "cell_type": "code",
   "execution_count": 2,
   "id": "9cad3557-f149-4088-be78-9e810398e7a3",
   "metadata": {},
   "outputs": [],
   "source": [
    "G = nx.Graph()\n",
    "\n",
    "# ノードの追加\n",
    "for idx, row in stations.iterrows():\n",
    "    G.add_node(row['station_cd'], name=row['station_name'])\n",
    "\n",
    "# エッジの追加\n",
    "for idx, row in edges.iterrows():\n",
    "    src_cd = row['station_cd1']\n",
    "    dst_cd = row['station_cd2']\n",
    "    G.add_edge(src_cd, dst_cd, weight=1)\n",
    "\n",
    "grouped_stations = stations.groupby('station_g_cd')\n",
    "\n",
    "for group_cd, group in grouped_stations:\n",
    "    station_pairs = combinations(group['station_cd'], 2)\n",
    "    for src_cd, dst_cd in station_pairs:\n",
    "        G.add_edge(src_cd, dst_cd, weight=0)"
   ]
  },
  {
   "cell_type": "code",
   "execution_count": 3,
   "id": "eb5ee1b6-2c6f-4f70-9601-0630ea03cbd4",
   "metadata": {},
   "outputs": [
    {
     "name": "stdout",
     "output_type": "stream",
     "text": [
      "最短経路（駅名）: 横浜 -> 戸塚 -> 大船 -> 藤沢 -> 辻堂 -> 茅ケ崎 -> 平塚 -> 大磯 -> 二宮 -> 国府津 -> 鴨宮 -> 小田原 -> 早川 -> 根府川 -> 真鶴 -> 湯河原 -> 熱海 -> 熱海 -> 函南 -> 三島 -> 沼津 -> 片浜 -> 原 -> 東田子の浦 -> 吉原 -> 富士 -> 富士川 -> 新蒲原 -> 蒲原 -> 由比 -> 興津 -> 清水 -> 草薙 -> 東静岡 -> 静岡 -> 安倍川 -> 用宗 -> 焼津 -> 西焼津 -> 藤枝 -> 六合 -> 島田 -> 金谷 -> 菊川 -> 掛川 -> 愛野 -> 袋井 -> 御厨 -> 磐田 -> 豊田町 -> 天竜川 -> 浜松 -> 浜松 -> 高塚 -> 舞阪 -> 弁天島 -> 新居町 -> 鷲津 -> 新所原 -> 二川 -> 豊橋 -> 西小坂井 -> 愛知御津 -> 三河大塚 -> 三河三谷 -> 蒲郡 -> 三河塩津 -> 三ケ根 -> 幸田 -> 相見 -> 岡崎 -> 西岡崎 -> 安城 -> 三河安城 -> 東刈谷 -> 野田新町 -> 刈谷 -> 逢妻 -> 大府 -> 共和 -> 南大高 -> 大高 -> 笠寺 -> 熱田 -> 金山 -> 尾頭橋 -> 名古屋 -> 枇杷島 -> 清洲 -> 稲沢 -> 尾張一宮 -> 木曽川 -> 岐阜 -> 岐阜 -> 西岐阜 -> 穂積 -> 大垣 -> 垂井 -> 関ケ原 -> 柏原 -> 近江長岡 -> 醒ケ井 -> 米原 -> 米原 -> 坂田 -> 田村 -> 長浜 -> 虎姫 -> 河毛 -> 高月 -> 木ノ本 -> 余呉 -> 近江塩津 -> 新疋田 -> 敦賀 -> 敦賀 -> 西敦賀 -> 粟野 -> 東美浜 -> 美浜 -> 気山 -> 三方 -> 藤井 -> 十村 -> 大鳥羽 -> 若狭有田 -> 上中 -> 新平野 -> 東小浜 -> 小浜 -> 勢浜 -> 加斗 -> 若狭本郷 -> 若狭和田 -> 若狭高浜 -> 三松 -> 青郷 -> 松尾寺 -> 東舞鶴 -> 東舞鶴 -> 西舞鶴 -> 真倉 -> 梅迫 -> 淵垣 -> 綾部 -> 綾部 -> 高津 -> 石原 -> 福知山 -> 上川口 -> 下夜久野 -> 上夜久野 -> 梁瀬 -> 和田山 -> 養父 -> 八鹿 -> 江原 -> 国府 -> 豊岡 -> 豊岡 -> 玄武洞 -> 城崎温泉 -> 竹野 -> 佐津 -> 柴山 -> 香住 -> 鎧 -> 餘部 -> 久谷 -> 浜坂 -> 諸寄 -> 居組 -> 東浜 -> 岩美 -> 大岩 -> 福部 -> 鳥取\n"
     ]
    }
   ],
   "source": [
    "def get_station_cd(station_name):\n",
    "    station_cd = stations.loc[stations[\"station_name\"] == station_name, \"station_cd\"]\n",
    "    if not station_cd.empty:\n",
    "        return station_cd.iloc[0]\n",
    "    else:\n",
    "        raise ValueError(f\"No station found with name {station_name}\")\n",
    "\n",
    "source_name = \"横浜\"\n",
    "target_name = \"鳥取\"\n",
    "\n",
    "try:\n",
    "    source = get_station_cd(source_name)\n",
    "    target = get_station_cd(target_name)\n",
    "    \n",
    "    # 最短経路の検索\n",
    "    shortest_path_cd = nx.shortest_path(G, source=source, target=target)\n",
    "    \n",
    "    # 駅コードを駅名に変換\n",
    "    shortest_path_names = [G.nodes[data]['name'] for data in shortest_path_cd]\n",
    "    print(\"最短経路（駅名）:\", \" -> \".join(shortest_path_names))\n",
    "\n",
    "except nx.NetworkXNoPath:\n",
    "    print(\"経路が見つかりません。\")"
   ]
  },
  {
   "cell_type": "code",
   "execution_count": null,
   "id": "72de94cc-7ae6-4c5d-b60a-0ba03bbbdb53",
   "metadata": {},
   "outputs": [],
   "source": []
  }
 ],
 "metadata": {
  "kernelspec": {
   "display_name": "Python 3 (ipykernel)",
   "language": "python",
   "name": "python3"
  },
  "language_info": {
   "codemirror_mode": {
    "name": "ipython",
    "version": 3
   },
   "file_extension": ".py",
   "mimetype": "text/x-python",
   "name": "python",
   "nbconvert_exporter": "python",
   "pygments_lexer": "ipython3",
   "version": "3.8.10"
  }
 },
 "nbformat": 4,
 "nbformat_minor": 5
}
