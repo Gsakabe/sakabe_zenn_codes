{
 "cells": [
  {
   "cell_type": "code",
   "execution_count": 1,
   "id": "e8175c67-5d0c-4726-8440-bb02191ba594",
   "metadata": {},
   "outputs": [],
   "source": [
    "import pandas as pd\n",
    "import networkx as nx\n",
    "\n",
    "edges = pd.read_csv(\"./駅データ/join20240328.csv\")\n",
    "stations = pd.read_csv(\"./駅データ/station20240426free.csv\")"
   ]
  },
  {
   "cell_type": "code",
   "execution_count": 2,
   "id": "9cad3557-f149-4088-be78-9e810398e7a3",
   "metadata": {},
   "outputs": [],
   "source": [
    "G = nx.Graph()\n",
    "\n",
    "# ノードの追加\n",
    "for idx, row in stations.iterrows():\n",
    "    G.add_node(row['station_cd'], name=row['station_name'])\n",
    "\n",
    "# エッジの追加\n",
    "for idx, row in edges.iterrows():\n",
    "    src_cd = row['station_cd1']\n",
    "    dst_cd = row['station_cd2']\n",
    "    G.add_edge(src_cd, dst_cd)\n",
    "\n"
   ]
  },
  {
   "cell_type": "code",
   "execution_count": 4,
   "id": "eb5ee1b6-2c6f-4f70-9601-0630ea03cbd4",
   "metadata": {},
   "outputs": [
    {
     "name": "stdout",
     "output_type": "stream",
     "text": [
      "最短経路（駅名）: 横浜 -> 川崎 -> 品川 -> 新橋 -> 東京\n"
     ]
    }
   ],
   "source": [
    "def get_station_cd(station_name):\n",
    "    station_cd = stations.loc[stations[\"station_name\"] == station_name, \"station_cd\"]\n",
    "    if not station_cd.empty:\n",
    "        return station_cd.iloc[0]\n",
    "    else:\n",
    "        raise ValueError(f\"No station found with name {station_name}\")\n",
    "\n",
    "source_name = \"横浜\"\n",
    "target_name = \"東京\"\n",
    "\n",
    "try:\n",
    "    source = get_station_cd(source_name)\n",
    "    target = get_station_cd(target_name)\n",
    "    \n",
    "    # 最短経路の検索\n",
    "    shortest_path_cd = nx.shortest_path(G, source=source, target=target)\n",
    "    \n",
    "    # 駅コードを駅名に変換\n",
    "    shortest_path_names = [G.nodes[data]['name'] for data in shortest_path_cd]\n",
    "    print(\"最短経路（駅名）:\", \" -> \".join(shortest_path_names))\n",
    "\n",
    "except nx.NetworkXNoPath:\n",
    "    print(\"経路が見つかりません。\")"
   ]
  },
  {
   "cell_type": "code",
   "execution_count": null,
   "id": "571e0f90-fae3-4259-b9f1-59c8b34fd2b8",
   "metadata": {},
   "outputs": [],
   "source": []
  }
 ],
 "metadata": {
  "kernelspec": {
   "display_name": "Python 3 (ipykernel)",
   "language": "python",
   "name": "python3"
  },
  "language_info": {
   "codemirror_mode": {
    "name": "ipython",
    "version": 3
   },
   "file_extension": ".py",
   "mimetype": "text/x-python",
   "name": "python",
   "nbconvert_exporter": "python",
   "pygments_lexer": "ipython3",
   "version": "3.9.5"
  }
 },
 "nbformat": 4,
 "nbformat_minor": 5
}
