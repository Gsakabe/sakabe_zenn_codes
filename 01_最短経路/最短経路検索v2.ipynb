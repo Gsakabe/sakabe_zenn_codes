{
 "cells": [
  {
   "cell_type": "code",
   "execution_count": 1,
   "id": "e8175c67-5d0c-4726-8440-bb02191ba594",
   "metadata": {},
   "outputs": [],
   "source": [
    "import math\n",
    "import pandas as pd\n",
    "import networkx as nx\n",
    "from itertools import combinations\n",
    "\n",
    "edges = pd.read_csv(\"./駅データ/join20240426.csv\")\n",
    "stations = pd.read_csv(\"./駅データ/station20240426.csv\")\n",
    "line = pd.read_csv(\"./駅データ/line20240426.csv\", usecols=[\"line_cd\", \"line_name\"])"
   ]
  },
  {
   "cell_type": "code",
   "execution_count": 2,
   "id": "6d1ca482-1acf-4db7-9f9e-570af303d641",
   "metadata": {},
   "outputs": [],
   "source": [
    "stations = stations.merge(line, how='left')"
   ]
  },
  {
   "cell_type": "code",
   "execution_count": 3,
   "id": "2958560e-f3b9-4ad7-834d-f9161954f2f3",
   "metadata": {},
   "outputs": [],
   "source": [
    "def haversine(lat1, lon1, lat2, lon2):\n",
    "    # 緯度経度から2点間の距離を求める\n",
    "    \n",
    "    # 地球の半径（キロメートル）\n",
    "    R = 6371.0\n",
    "    lat1, lon1, lat2, lon2 = map(math.radians, [lat1, lon1, lat2, lon2])\n",
    "    dlat = lat2 - lat1\n",
    "    dlon = lon2 - lon1\n",
    "    a = math.sin(dlat/2)**2 + math.cos(lat1) * math.cos(lat2) * math.sin(dlon/2)**2\n",
    "    c = 2 * math.atan2(math.sqrt(a), math.sqrt(1 - a))\n",
    "    distance = R * c\n",
    "    return distance"
   ]
  },
  {
   "cell_type": "code",
   "execution_count": 4,
   "id": "ca485fe9-bdb2-411f-92f6-2da2119def1c",
   "metadata": {},
   "outputs": [],
   "source": [
    "def get_station_cd(station_name):\n",
    "    station_cd = stations.loc[stations[\"station_name\"] == station_name, \"station_cd\"]\n",
    "    if not station_cd.empty:\n",
    "        return station_cd.iloc[0]\n",
    "    else:\n",
    "        raise ValueError(f\"No station found with name {station_name}\")\n",
    "\n",
    "def simplify_path(path):\n",
    "    if not path:\n",
    "        return []\n",
    "    simplified_path = [path[0]]\n",
    "    current_line = G.nodes[path[0]]['line_cd']\n",
    "    for station in path[1:]:\n",
    "        next_line = G.nodes[station]['line_cd']\n",
    "        if next_line != current_line:\n",
    "            simplified_path.append(station)\n",
    "            current_line = next_line\n",
    "    if path[-1] != simplified_path[-1]:\n",
    "        simplified_path.append(path[-1])\n",
    "    return simplified_path\n"
   ]
  },
  {
   "cell_type": "code",
   "execution_count": 5,
   "id": "9a87c33c-e208-4c8e-806c-ff3864bf6c28",
   "metadata": {},
   "outputs": [],
   "source": [
    "edges = edges.merge(stations.loc[:,[\"station_cd\", \"lon\", \"lat\"]], how='left', left_on='station_cd1', right_on='station_cd', suffixes=('', '_1'))\n",
    "edges.drop(columns=['station_cd'], inplace=True)\n",
    "edges.rename(columns={'lon': 'lon1', 'lat': 'lat1'}, inplace=True)\n",
    "\n",
    "edges = edges.merge(stations.loc[:,[\"station_cd\", \"lon\", \"lat\"]], how='left', left_on='station_cd2', right_on='station_cd', suffixes=('', '_2'))\n",
    "edges.drop(columns=['station_cd'], inplace=True)\n",
    "edges.rename(columns={'lon': 'lon2', 'lat': 'lat2'}, inplace=True)\n",
    "edges = edges.dropna()\n",
    "\n",
    "edges['distance'] = edges.apply(lambda row: haversine(row[\"lat1\"], row[\"lon1\"], row[\"lat2\"], row[\"lon2\"]), axis=1)\n",
    "# 距離の逆数(0除算対策の0.1)\n",
    "edges['weight'] = edges['distance'].apply(lambda x: 1 / (x + 0.1))"
   ]
  },
  {
   "cell_type": "code",
   "execution_count": null,
   "id": "de97c358-e6bd-405e-8947-396c9c34e86f",
   "metadata": {},
   "outputs": [],
   "source": []
  },
  {
   "cell_type": "code",
   "execution_count": null,
   "id": "95eb0b8e-a7fe-4570-94c3-c730014991ac",
   "metadata": {},
   "outputs": [],
   "source": []
  },
  {
   "cell_type": "code",
   "execution_count": 6,
   "id": "c914b3ba-d032-48ba-9275-586bcd9cb39e",
   "metadata": {},
   "outputs": [],
   "source": [
    "G = nx.Graph()\n",
    "\n",
    "for idx, row in stations.iterrows():\n",
    "    G.add_node(row['station_cd'], name=row['station_name'] + \" \" + row[\"line_name\"], lat=row['lat'], lon=row['lon'], line_cd=row['line_cd'])\n",
    "\n",
    "for idx, row in edges.iterrows():\n",
    "    src_cd = row['station_cd1']\n",
    "    dst_cd = row['station_cd2']\n",
    "    weight = row[\"weight\"]\n",
    "    G.add_edge(src_cd, dst_cd, weight=weight)\n",
    "\n",
    "grouped_stations = stations.groupby('station_g_cd')\n",
    "\n",
    "for group_cd, group in grouped_stations:\n",
    "    station_pairs = combinations(group['station_cd'], 2)\n",
    "    for src_cd, dst_cd in station_pairs:\n",
    "        G.add_edge(src_cd, dst_cd, weight=edges['weight'].max() * 2)\n"
   ]
  },
  {
   "cell_type": "code",
   "execution_count": 7,
   "id": "b228fc73-dfa3-4771-9c5c-ea6981b7c9a1",
   "metadata": {},
   "outputs": [],
   "source": [
    "def print_shortest_path(source_name, target_name):\n",
    "    try:\n",
    "        source = get_station_cd(source_name)\n",
    "        target = get_station_cd(target_name)\n",
    "        \n",
    "        shortest_path_cd = nx.shortest_path(G, source=source, target=target, weight='weight')\n",
    "        simplified_path_cd = simplify_path(shortest_path_cd)\n",
    "        \n",
    "        shortest_path_names = [G.nodes[data]['name'] for data in shortest_path_cd]\n",
    "        simplified_path_names = [G.nodes[data]['name'] for data in simplified_path_cd]\n",
    "        \n",
    "        print(\"最短経路（駅名）\\n\", \" ->\\n\".join(simplified_path_names))\n",
    "    \n",
    "    except nx.NetworkXNoPath:\n",
    "        print(\"経路が見つかりません。\")\n"
   ]
  },
  {
   "cell_type": "code",
   "execution_count": 10,
   "id": "3e0ebbc4-1571-4f35-b6ec-9d9e3489b23b",
   "metadata": {},
   "outputs": [
    {
     "name": "stdout",
     "output_type": "stream",
     "text": [
      "最短経路（駅名）\n",
      " 稚内 JR宗谷本線 ->\n",
      "旭川 JR函館本線(小樽～旭川) ->\n",
      "札幌 北海道新幹線 ->\n",
      "新青森 東北新幹線 ->\n",
      "東京 東海道新幹線 ->\n",
      "新大阪 山陽新幹線 ->\n",
      "博多 九州新幹線 ->\n",
      "鹿児島中央 JR鹿児島本線(川内～鹿児島) ->\n",
      "鹿児島 JR鹿児島本線(川内～鹿児島)\n"
     ]
    }
   ],
   "source": [
    "source_name = \"稚内\"\n",
    "target_name = \"鹿児島\"\n",
    "\n",
    "print_shortest_path(source_name, target_name)"
   ]
  },
  {
   "cell_type": "code",
   "execution_count": 11,
   "id": "18cdb1f1-172f-404a-a512-69d4b5d72eb4",
   "metadata": {},
   "outputs": [
    {
     "name": "stdout",
     "output_type": "stream",
     "text": [
      "最短経路（駅名）\n",
      " 横浜 JR東海道本線(東京～熱海) ->\n",
      "品川 東海道新幹線 ->\n",
      "京都 嵯峨野線 ->\n",
      "園部 JR山陰本線(園部～豊岡) ->\n",
      "豊岡 JR山陰本線(豊岡～米子) ->\n",
      "城崎温泉 JR山陰本線(豊岡～米子)\n"
     ]
    }
   ],
   "source": [
    "source_name = \"横浜\"\n",
    "target_name = \"城崎温泉\"\n",
    "\n",
    "print_shortest_path(source_name, target_name)"
   ]
  },
  {
   "cell_type": "code",
   "execution_count": null,
   "id": "ac826283-46e4-4a87-81eb-cc024648908e",
   "metadata": {},
   "outputs": [],
   "source": []
  }
 ],
 "metadata": {
  "kernelspec": {
   "display_name": "Python 3 (ipykernel)",
   "language": "python",
   "name": "python3"
  },
  "language_info": {
   "codemirror_mode": {
    "name": "ipython",
    "version": 3
   },
   "file_extension": ".py",
   "mimetype": "text/x-python",
   "name": "python",
   "nbconvert_exporter": "python",
   "pygments_lexer": "ipython3",
   "version": "3.8.10"
  }
 },
 "nbformat": 4,
 "nbformat_minor": 5
}
