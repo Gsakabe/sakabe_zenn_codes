{
 "cells": [
  {
   "cell_type": "code",
   "execution_count": 20,
   "id": "e8175c67-5d0c-4726-8440-bb02191ba594",
   "metadata": {},
   "outputs": [],
   "source": [
    "import math\n",
    "import pandas as pd\n",
    "import networkx as nx\n",
    "from itertools import combinations\n",
    "\n",
    "edges = pd.read_csv(\"./駅データ/join20240426.csv\")\n",
    "stations = pd.read_csv(\"./駅データ/station20240426free.csv\")\n",
    "line = pd.read_csv(\"./駅データ/line20240426free.csv\", usecols=[\"line_cd\", \"line_name\"])"
   ]
  },
  {
   "cell_type": "code",
   "execution_count": 21,
   "id": "11963ac8-143c-46d7-8cdc-777b6f5aee0f",
   "metadata": {},
   "outputs": [
    {
     "data": {
      "text/html": [
       "<div>\n",
       "<style scoped>\n",
       "    .dataframe tbody tr th:only-of-type {\n",
       "        vertical-align: middle;\n",
       "    }\n",
       "\n",
       "    .dataframe tbody tr th {\n",
       "        vertical-align: top;\n",
       "    }\n",
       "\n",
       "    .dataframe thead th {\n",
       "        text-align: right;\n",
       "    }\n",
       "</style>\n",
       "<table border=\"1\" class=\"dataframe\">\n",
       "  <thead>\n",
       "    <tr style=\"text-align: right;\">\n",
       "      <th></th>\n",
       "      <th>station_cd</th>\n",
       "      <th>station_g_cd</th>\n",
       "      <th>station_name</th>\n",
       "      <th>station_name_k</th>\n",
       "      <th>station_name_r</th>\n",
       "      <th>line_cd</th>\n",
       "      <th>pref_cd</th>\n",
       "      <th>post</th>\n",
       "      <th>address</th>\n",
       "      <th>lon</th>\n",
       "      <th>lat</th>\n",
       "      <th>open_ymd</th>\n",
       "      <th>close_ymd</th>\n",
       "      <th>e_status</th>\n",
       "      <th>e_sort</th>\n",
       "    </tr>\n",
       "  </thead>\n",
       "  <tbody>\n",
       "  </tbody>\n",
       "</table>\n",
       "</div>"
      ],
      "text/plain": [
       "Empty DataFrame\n",
       "Columns: [station_cd, station_g_cd, station_name, station_name_k, station_name_r, line_cd, pref_cd, post, address, lon, lat, open_ymd, close_ymd, e_status, e_sort]\n",
       "Index: []"
      ]
     },
     "execution_count": 21,
     "metadata": {},
     "output_type": "execute_result"
    }
   ],
   "source": [
    "stations[stations[\"line_cd\"] == 1001]"
   ]
  },
  {
   "cell_type": "code",
   "execution_count": null,
   "id": "8e0008d0-2914-4190-8b9c-b719314e37ff",
   "metadata": {},
   "outputs": [],
   "source": []
  },
  {
   "cell_type": "code",
   "execution_count": 2,
   "id": "6d1ca482-1acf-4db7-9f9e-570af303d641",
   "metadata": {},
   "outputs": [],
   "source": [
    "stations = stations.merge(line, how='left')"
   ]
  },
  {
   "cell_type": "code",
   "execution_count": 3,
   "id": "2958560e-f3b9-4ad7-834d-f9161954f2f3",
   "metadata": {},
   "outputs": [],
   "source": [
    "def haversine(lat1, lon1, lat2, lon2):\n",
    "    R = 6371.0\n",
    "    lat1, lon1, lat2, lon2 = map(math.radians, [lat1, lon1, lat2, lon2])\n",
    "    dlat = lat2 - lat1\n",
    "    dlon = lon2 - lon1\n",
    "    a = math.sin(dlat/2)**2 + math.cos(lat1) * math.cos(lat2) * math.sin(dlon/2)**2\n",
    "    c = 2 * math.atan2(math.sqrt(a), math.sqrt(1 - a))\n",
    "    distance = R * c\n",
    "    return distance"
   ]
  },
  {
   "cell_type": "code",
   "execution_count": 4,
   "id": "ca485fe9-bdb2-411f-92f6-2da2119def1c",
   "metadata": {},
   "outputs": [],
   "source": [
    "def get_station_cd(station_name):\n",
    "    station_cd = stations.loc[stations[\"station_name\"] == station_name, \"station_cd\"]\n",
    "    if not station_cd.empty:\n",
    "        return station_cd.iloc[0]\n",
    "    else:\n",
    "        raise ValueError(f\"No station found with name {station_name}\")\n",
    "\n",
    "def simplify_path(path):\n",
    "    if not path:\n",
    "        return []\n",
    "    simplified_path = [path[0]]\n",
    "    current_line = G.nodes[path[0]]['line_cd']\n",
    "    for station in path[1:]:\n",
    "        next_line = G.nodes[station]['line_cd']\n",
    "        if next_line != current_line:\n",
    "            simplified_path.append(station)\n",
    "            current_line = next_line\n",
    "    if path[-1] != simplified_path[-1]:\n",
    "        simplified_path.append(path[-1])\n",
    "    return simplified_path\n"
   ]
  },
  {
   "cell_type": "code",
   "execution_count": 5,
   "id": "9a87c33c-e208-4c8e-806c-ff3864bf6c28",
   "metadata": {},
   "outputs": [],
   "source": [
    "edges = edges.merge(stations.loc[:,[\"station_cd\", \"lon\", \"lat\"]], how='left', left_on='station_cd1', right_on='station_cd', suffixes=('', '_1'))\n",
    "edges.drop(columns=['station_cd'], inplace=True)\n",
    "edges.rename(columns={'lon': 'lon1', 'lat': 'lat1'}, inplace=True)\n",
    "\n",
    "edges = edges.merge(stations.loc[:,[\"station_cd\", \"lon\", \"lat\"]], how='left', left_on='station_cd2', right_on='station_cd', suffixes=('', '_2'))\n",
    "edges.drop(columns=['station_cd'], inplace=True)\n",
    "edges.rename(columns={'lon': 'lon2', 'lat': 'lat2'}, inplace=True)\n",
    "edges = edges.dropna()\n",
    "\n",
    "edges['distance'] = edges.apply(lambda row: haversine(row[\"lat1\"], row[\"lon1\"], row[\"lat2\"], row[\"lon2\"]), axis=1)\n",
    "edges['weight'] = edges['distance'].apply(lambda x: math.exp(x / 2))\n",
    "\n"
   ]
  },
  {
   "cell_type": "code",
   "execution_count": 7,
   "id": "c914b3ba-d032-48ba-9275-586bcd9cb39e",
   "metadata": {},
   "outputs": [],
   "source": [
    "G = nx.Graph()\n",
    "\n",
    "for idx, row in stations.iterrows():\n",
    "    G.add_node(row['station_cd'], name=row['station_name'] + \" \" + row[\"line_name\"], lat=row['lat'], lon=row['lon'], line_cd=row['line_cd'])\n",
    "\n",
    "for idx, row in edges.iterrows():\n",
    "    src_cd = row['station_cd1']\n",
    "    dst_cd = row['station_cd2']\n",
    "    weight = row[\"weight\"]\n",
    "    G.add_edge(src_cd, dst_cd, weight=weight)\n",
    "\n",
    "grouped_stations = stations.groupby('station_g_cd')\n",
    "\n",
    "for group_cd, group in grouped_stations:\n",
    "    station_pairs = combinations(group['station_cd'], 2)\n",
    "    for src_cd, dst_cd in station_pairs:\n",
    "        G.add_edge(src_cd, dst_cd, weight=edges['weight'].max() * 2)\n"
   ]
  },
  {
   "cell_type": "code",
   "execution_count": 8,
   "id": "62299d33-5fa9-428f-993c-f1c8635c1590",
   "metadata": {},
   "outputs": [],
   "source": [
    "def debug_path(path_cd):\n",
    "    print(\"経路デバッグ情報:\")\n",
    "    for station_cd in path_cd:\n",
    "        station = G.nodes[station_cd]\n",
    "        print(f\"駅コード: {station_cd}, 駅名: {station['name']}, 路線コード: {station['line_cd']}, 緯度: {station['lat']}, 経度: {station['lon']}\")\n"
   ]
  },
  {
   "cell_type": "code",
   "execution_count": 9,
   "id": "9cad3557-f149-4088-be78-9e810398e7a3",
   "metadata": {},
   "outputs": [
    {
     "name": "stdout",
     "output_type": "stream",
     "text": [
      "簡略化された経路（駅名）:\n",
      " 横浜 JR東海道本線(東京～熱海) -> \n",
      "熱海 JR東海道本線(熱海～浜松) -> \n",
      "浜松 JR東海道本線(浜松～岐阜) -> \n",
      "岐阜 JR東海道本線(岐阜～美濃赤坂・米原) -> \n",
      "米原 琵琶湖線 -> \n",
      "京都 JR京都線 -> \n",
      "大阪 JR京都線\n"
     ]
    }
   ],
   "source": [
    "source_name = \"横浜\"\n",
    "target_name = \"大阪\"\n",
    "\n",
    "try:\n",
    "    source = get_station_cd(source_name)\n",
    "    target = get_station_cd(target_name)\n",
    "    \n",
    "    shortest_path_cd = nx.shortest_path(G, source=source, target=target, weight='weight')\n",
    "    simplified_path_cd = simplify_path(shortest_path_cd)\n",
    "    \n",
    "    shortest_path_names = [G.nodes[data]['name'] for data in shortest_path_cd]\n",
    "    simplified_path_names = [G.nodes[data]['name'] for data in simplified_path_cd]\n",
    "    \n",
    "    # print(\"最短経路（駅名）:\", \" -> \".join(shortest_path_names))\n",
    "    print(\"簡略化された経路（駅名）:\\n\", \" -> \\n\".join(simplified_path_names))\n",
    "\n",
    "except nx.NetworkXNoPath:\n",
    "    print(\"経路が見つかりません。\")\n"
   ]
  },
  {
   "cell_type": "code",
   "execution_count": 22,
   "id": "ae9971d4-099b-4492-af65-b7b200dd0c3b",
   "metadata": {},
   "outputs": [],
   "source": [
    "shinkansen_lines = line[line['line_name'].str.contains('新幹線')]\n"
   ]
  },
  {
   "cell_type": "code",
   "execution_count": 19,
   "id": "ffd6058a-2cdd-46e2-b616-22540e83b845",
   "metadata": {},
   "outputs": [
    {
     "data": {
      "text/html": [
       "<div>\n",
       "<style scoped>\n",
       "    .dataframe tbody tr th:only-of-type {\n",
       "        vertical-align: middle;\n",
       "    }\n",
       "\n",
       "    .dataframe tbody tr th {\n",
       "        vertical-align: top;\n",
       "    }\n",
       "\n",
       "    .dataframe thead th {\n",
       "        text-align: right;\n",
       "    }\n",
       "</style>\n",
       "<table border=\"1\" class=\"dataframe\">\n",
       "  <thead>\n",
       "    <tr style=\"text-align: right;\">\n",
       "      <th></th>\n",
       "      <th>station_cd</th>\n",
       "      <th>station_g_cd</th>\n",
       "      <th>station_name</th>\n",
       "      <th>station_name_k</th>\n",
       "      <th>station_name_r</th>\n",
       "      <th>line_cd</th>\n",
       "      <th>pref_cd</th>\n",
       "      <th>post</th>\n",
       "      <th>address</th>\n",
       "      <th>lon</th>\n",
       "      <th>lat</th>\n",
       "      <th>open_ymd</th>\n",
       "      <th>close_ymd</th>\n",
       "      <th>e_status</th>\n",
       "      <th>e_sort</th>\n",
       "      <th>line_name</th>\n",
       "    </tr>\n",
       "  </thead>\n",
       "  <tbody>\n",
       "  </tbody>\n",
       "</table>\n",
       "</div>"
      ],
      "text/plain": [
       "Empty DataFrame\n",
       "Columns: [station_cd, station_g_cd, station_name, station_name_k, station_name_r, line_cd, pref_cd, post, address, lon, lat, open_ymd, close_ymd, e_status, e_sort, line_name]\n",
       "Index: []"
      ]
     },
     "execution_count": 19,
     "metadata": {},
     "output_type": "execute_result"
    }
   ],
   "source": [
    "stations[stations[\"line_cd\"] == 1001]"
   ]
  },
  {
   "cell_type": "code",
   "execution_count": 23,
   "id": "9ae90264-6d70-46ca-bfa9-ccba3179bc16",
   "metadata": {},
   "outputs": [
    {
     "data": {
      "text/html": [
       "<div>\n",
       "<style scoped>\n",
       "    .dataframe tbody tr th:only-of-type {\n",
       "        vertical-align: middle;\n",
       "    }\n",
       "\n",
       "    .dataframe tbody tr th {\n",
       "        vertical-align: top;\n",
       "    }\n",
       "\n",
       "    .dataframe thead th {\n",
       "        text-align: right;\n",
       "    }\n",
       "</style>\n",
       "<table border=\"1\" class=\"dataframe\">\n",
       "  <thead>\n",
       "    <tr style=\"text-align: right;\">\n",
       "      <th></th>\n",
       "      <th>line_cd</th>\n",
       "      <th>line_name</th>\n",
       "    </tr>\n",
       "  </thead>\n",
       "  <tbody>\n",
       "    <tr>\n",
       "      <th>0</th>\n",
       "      <td>1001</td>\n",
       "      <td>中央新幹線</td>\n",
       "    </tr>\n",
       "    <tr>\n",
       "      <th>1</th>\n",
       "      <td>1002</td>\n",
       "      <td>東海道新幹線</td>\n",
       "    </tr>\n",
       "    <tr>\n",
       "      <th>2</th>\n",
       "      <td>1003</td>\n",
       "      <td>山陽新幹線</td>\n",
       "    </tr>\n",
       "    <tr>\n",
       "      <th>3</th>\n",
       "      <td>1004</td>\n",
       "      <td>東北新幹線</td>\n",
       "    </tr>\n",
       "    <tr>\n",
       "      <th>4</th>\n",
       "      <td>1005</td>\n",
       "      <td>上越新幹線</td>\n",
       "    </tr>\n",
       "    <tr>\n",
       "      <th>5</th>\n",
       "      <td>1006</td>\n",
       "      <td>上越新幹線(ガーラ湯沢支線)</td>\n",
       "    </tr>\n",
       "    <tr>\n",
       "      <th>6</th>\n",
       "      <td>1007</td>\n",
       "      <td>山形新幹線</td>\n",
       "    </tr>\n",
       "    <tr>\n",
       "      <th>7</th>\n",
       "      <td>1008</td>\n",
       "      <td>秋田新幹線</td>\n",
       "    </tr>\n",
       "    <tr>\n",
       "      <th>8</th>\n",
       "      <td>1009</td>\n",
       "      <td>北陸新幹線</td>\n",
       "    </tr>\n",
       "    <tr>\n",
       "      <th>9</th>\n",
       "      <td>1010</td>\n",
       "      <td>九州新幹線</td>\n",
       "    </tr>\n",
       "    <tr>\n",
       "      <th>10</th>\n",
       "      <td>1011</td>\n",
       "      <td>北海道新幹線</td>\n",
       "    </tr>\n",
       "    <tr>\n",
       "      <th>11</th>\n",
       "      <td>1012</td>\n",
       "      <td>西九州新幹線</td>\n",
       "    </tr>\n",
       "  </tbody>\n",
       "</table>\n",
       "</div>"
      ],
      "text/plain": [
       "    line_cd       line_name\n",
       "0      1001           中央新幹線\n",
       "1      1002          東海道新幹線\n",
       "2      1003           山陽新幹線\n",
       "3      1004           東北新幹線\n",
       "4      1005           上越新幹線\n",
       "5      1006  上越新幹線(ガーラ湯沢支線)\n",
       "6      1007           山形新幹線\n",
       "7      1008           秋田新幹線\n",
       "8      1009           北陸新幹線\n",
       "9      1010           九州新幹線\n",
       "10     1011          北海道新幹線\n",
       "11     1012          西九州新幹線"
      ]
     },
     "execution_count": 23,
     "metadata": {},
     "output_type": "execute_result"
    }
   ],
   "source": [
    "shinkansen_lines"
   ]
  },
  {
   "cell_type": "code",
   "execution_count": 10,
   "id": "958112a1-be95-4a9f-868f-1e5c81c69f6b",
   "metadata": {},
   "outputs": [
    {
     "ename": "RuntimeError",
     "evalue": "No active exception to reraise",
     "output_type": "error",
     "traceback": [
      "\u001b[0;31m---------------------------------------------------------------------------\u001b[0m",
      "\u001b[0;31mRuntimeError\u001b[0m                              Traceback (most recent call last)",
      "Cell \u001b[0;32mIn[10], line 1\u001b[0m\n\u001b[0;32m----> 1\u001b[0m \u001b[38;5;28;01mraise\u001b[39;00m\n",
      "\u001b[0;31mRuntimeError\u001b[0m: No active exception to reraise"
     ]
    }
   ],
   "source": [
    "raise"
   ]
  },
  {
   "cell_type": "code",
   "execution_count": null,
   "id": "5b15a966-c2c3-4fd8-bdc9-af264075ed63",
   "metadata": {},
   "outputs": [],
   "source": [
    "i = 0\n",
    "for (u, v, data) in G.edges(data=True):\n",
    "    print(f\"Edge from {u} to {v} has weight: {data['weight']}\")\n",
    "    if i >= 10:\n",
    "        break\n",
    "    i+=1"
   ]
  },
  {
   "cell_type": "code",
   "execution_count": null,
   "id": "2062c8bf-5b9c-4cdd-862c-3f248bbc766c",
   "metadata": {},
   "outputs": [],
   "source": [
    "path = nx.shortest_path(G, source=1110101 , target=1110107, weight='weight')\n",
    "print(\"Shortest path from {} to {} is: {}\".format(source, target, path))\n"
   ]
  },
  {
   "cell_type": "code",
   "execution_count": null,
   "id": "273142f0-4323-4b15-a29b-3530e72814bd",
   "metadata": {},
   "outputs": [],
   "source": [
    "get_station_cd(\"新横浜\")"
   ]
  },
  {
   "cell_type": "code",
   "execution_count": null,
   "id": "66272f3f-398a-4ecd-88e2-d204ce02a166",
   "metadata": {},
   "outputs": [],
   "source": [
    "stations[stations[\"station_name\"] == \"新横浜\"]"
   ]
  },
  {
   "cell_type": "code",
   "execution_count": null,
   "id": "3e0ebbc4-1571-4f35-b6ec-9d9e3489b23b",
   "metadata": {},
   "outputs": [],
   "source": []
  }
 ],
 "metadata": {
  "kernelspec": {
   "display_name": "Python 3 (ipykernel)",
   "language": "python",
   "name": "python3"
  },
  "language_info": {
   "codemirror_mode": {
    "name": "ipython",
    "version": 3
   },
   "file_extension": ".py",
   "mimetype": "text/x-python",
   "name": "python",
   "nbconvert_exporter": "python",
   "pygments_lexer": "ipython3",
   "version": "3.8.10"
  }
 },
 "nbformat": 4,
 "nbformat_minor": 5
}
