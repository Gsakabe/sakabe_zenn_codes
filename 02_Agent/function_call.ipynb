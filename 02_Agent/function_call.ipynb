{
 "cells": [
  {
   "cell_type": "code",
   "execution_count": 1,
   "id": "9e1b51be-8f67-400a-8f6e-5b84e7a58974",
   "metadata": {},
   "outputs": [],
   "source": [
    "\n",
    "import os\n",
    "\n",
    "from azure.ai.projects import AIProjectClient\n",
    "from azure.ai.projects.models import FunctionTool, ToolSet\n",
    "from azure.identity import DefaultAzureCredential\n",
    "\n",
    "# user_functions.py で定義した関数セットを読み込む\n",
    "from user_functions import get_user_functions\n",
    "\n",
    "# Azure AI Foundry Project の接続文字列を環境変数から取得\n",
    "if \"PROJECT_CONNECTION_STRING\" not in os.environ:\n",
    "    os.environ[\"PROJECT_CONNECTION_STRING\"] = \"\"\n",
    "\n",
    "conn_str = os.environ[\"PROJECT_CONNECTION_STRING\"]\n",
    "credential = DefaultAzureCredential()\n",
    "\n",
    "# クライアント生成\n",
    "project_client = AIProjectClient.from_connection_string(\n",
    "    credential=credential,\n",
    "    conn_str=conn_str\n",
    ")\n"
   ]
  },
  {
   "cell_type": "code",
   "execution_count": 2,
   "id": "c65f1bd8-6e7a-493e-ae43-18a94587877c",
   "metadata": {},
   "outputs": [],
   "source": [
    "user_message = \"東京から行けるおすすめの温泉地を教えて。ユニークな視点とコスパ重視の両方で比較したいです。\""
   ]
  },
  {
   "cell_type": "code",
   "execution_count": null,
   "id": "2a8b30db",
   "metadata": {},
   "outputs": [],
   "source": [
    "# エージェントの作成\n",
    "agentB = project_client.agents.create_agent(\n",
    "    model=\"gpt-4o-mini\",\n",
    "    name=\"UniqueAgent\",\n",
    "    instructions=\"あなたはユニークな視点を持つアシスタントです。一般的ではない特別な視点から回答してください。\",\n",
    ")\n",
    "print(f\"AgentB created: {agentB.id}\")\n",
    "\n",
    "agentC = project_client.agents.create_agent(\n",
    "    model=\"gpt-4o-mini\",\n",
    "    name=\"CostEffectiveAgent\",\n",
    "    instructions=\"あなたはコスパ重視のアシスタントです。コストパフォーマンスを重視して回答してください。\",\n",
    ")\n",
    "print(f\"AgentC created: {agentC.id}\")\n"
   ]
  },
  {
   "cell_type": "code",
   "execution_count": null,
   "id": "52c71755",
   "metadata": {},
   "outputs": [],
   "source": [
    "# ツールの定義\n",
    "funcs = get_user_functions(project_client, agentB.id, agentC.id)\n",
    "functions = FunctionTool(funcs)  \n",
    "\n",
    "toolset = ToolSet()\n",
    "toolset.add(functions)\n",
    "\n",
    "# エージェント（オーケストレーター）を作成\n",
    "agentA = project_client.agents.create_agent(\n",
    "    model=\"gpt-4o-mini\", \n",
    "    name=\"OrchestratorAgent\",\n",
    "    instructions=(\n",
    "        \"あなたはオーケストレーターとして、\"\n",
    "        \"UniqueAgent と CostEffectiveAgent のツールを必要に応じて呼び出し、それぞれの回答を統合してください。\"\n",
    "    ),\n",
    "    toolset=toolset\n",
    ")\n",
    "print(f\"Agent created, ID: {agentA.id}\")\n"
   ]
  },
  {
   "cell_type": "code",
   "execution_count": null,
   "id": "5be7d92a",
   "metadata": {},
   "outputs": [],
   "source": [
    "# スレッドの作成とメッセージ送信\n",
    "thread = project_client.agents.create_thread()\n",
    "print(f\"Thread created, ID: {thread.id}\")\n",
    "\n",
    "msg = project_client.agents.create_message(\n",
    "    thread_id=thread.id,\n",
    "    role=\"user\",\n",
    "    content=user_message\n",
    ")\n",
    "print(f\"User message created: {msg.id}\")\n"
   ]
  },
  {
   "cell_type": "code",
   "execution_count": null,
   "id": "2d3ac3b1",
   "metadata": {},
   "outputs": [],
   "source": [
    "# エージェントに実行を依頼する。また関数もここで実行\n",
    "runA = project_client.agents.create_and_process_run(\n",
    "    thread_id=thread.id,\n",
    "    assistant_id=agentA.id\n",
    ")\n",
    "\n",
    "print(f\"Run finished with status: {runA.status}\")\n",
    "\n",
    "if runA.status == \"failed\":\n",
    "    print(f\"Run failed: {runA.last_error}\")\n"
   ]
  },
  {
   "cell_type": "code",
   "execution_count": null,
   "id": "68f698ed",
   "metadata": {},
   "outputs": [],
   "source": [
    "# 7) 結果メッセージを取得して表示\n",
    "messages_json = project_client.agents.list_messages(thread_id=thread.id)\n",
    "if not messages_json.get(\"data\"):\n",
    "    print(\"No messages returned.\")\n",
    "else:\n",
    "    data = messages_json[\"data\"]\n",
    "    for i, m in enumerate(data, start=1):\n",
    "        role = m[\"role\"]\n",
    "        text_list = []\n",
    "        for c in m.get(\"content\", []):\n",
    "            if c.get(\"type\") == \"text\":\n",
    "                text_list.append(c[\"text\"][\"value\"])\n",
    "        joined = \"\\n\".join(text_list)\n",
    "        print(f\"[Message {i} | {role}]\\n{joined}\\n\")"
   ]
  },
  {
   "cell_type": "code",
   "execution_count": null,
   "id": "b6d607f4-6286-4dc1-a10d-e55c94687447",
   "metadata": {},
   "outputs": [],
   "source": [
    "# (8) 後片付け (エージェント & スレッド削除)\n",
    "project_client.agents.delete_agent(agentA.id)\n",
    "print(f\"Deleted AgentA: {agentA.id}\")\n",
    "\n",
    "project_client.agents.delete_agent(agentB.id)\n",
    "print(f\"Deleted AgentB: {agentB.id}\")\n",
    "\n",
    "project_client.agents.delete_agent(agentC.id)\n",
    "print(f\"Deleted AgentC: {agentC.id}\")\n",
    "\n",
    "project_client.agents.delete_thread(thread.id)\n",
    "print(f\"Deleted thread: {thread.id}\")\n"
   ]
  },
  {
   "cell_type": "code",
   "execution_count": null,
   "id": "e032f22b-025e-4932-b27e-6eea5a783672",
   "metadata": {},
   "outputs": [],
   "source": []
  }
 ],
 "metadata": {
  "kernelspec": {
   "display_name": "Python 3 (ipykernel)",
   "language": "python",
   "name": "python3"
  },
  "language_info": {
   "codemirror_mode": {
    "name": "ipython",
    "version": 3
   },
   "file_extension": ".py",
   "mimetype": "text/x-python",
   "name": "python",
   "nbconvert_exporter": "python",
   "pygments_lexer": "ipython3",
   "version": "3.12.3"
  }
 },
 "nbformat": 4,
 "nbformat_minor": 5
}
